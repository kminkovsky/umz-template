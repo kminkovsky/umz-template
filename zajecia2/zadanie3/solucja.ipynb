{
 "cells": [
  {
   "cell_type": "code",
   "execution_count": 11,
   "metadata": {},
   "outputs": [],
   "source": [
    "%matplotlib inline\n",
    "\n",
    "import pandas as pd\n",
    "import numpy as np\n",
    "import seaborn as sns\n",
    "from sklearn.linear_model import LogisticRegression\n",
    "\n",
    "names = ['label'] + [str(x) for x in range(0, 34)]\n",
    "train = pd.read_csv('train/in.tsv', sep='\\t', names=names)\n",
    "dev = pd.read_csv('dev-0/in.tsv', sep='\\t', names=names)\n",
    "test = pd.read_csv('test-A/in.tsv', sep='\\t', names=names)\n",
    "exp = pd.read_csv('dev-0/expected.tsv', sep='\\t', names=['label'])\n",
    "dev['label'] = exp['label']"
   ]
  },
  {
   "cell_type": "code",
   "execution_count": 13,
   "metadata": {},
   "outputs": [
    {
     "name": "stdout",
     "output_type": "stream",
     "text": [
      "twój wynik acc to:  0.84\n",
      "żeby zaliczyc zadanie powinieneś mieć conajmniej:  0.6\n",
      "zaliczone\n"
     ]
    }
   ],
   "source": [
    "myvarcol = [str(x) for x in range(0, 33)]\n",
    "\n",
    "lr = LogisticRegression()\n",
    "lr.fit(train[myvarcol].values.reshape(-1, len(myvarcol)), train['label'].values.ravel())\n",
    "\n",
    "pd.DataFrame(lr.predict(dev[myvarcol].values.reshape(-1, len(myvarcol)))).to_csv('dev-0/out.tsv', sep='\\t', header=False, index=False)\n",
    "pd.DataFrame(lr.predict(test[myvarcol].values.reshape(-1, len(myvarcol)))).to_csv('test-A/out.tsv', sep='\\t', header=False, index=False)\n",
    "!python test_my_score.py"
   ]
  },
  {
   "cell_type": "code",
   "execution_count": 14,
   "metadata": {},
   "outputs": [
    {
     "data": {
      "text/plain": [
       "69.322709163346616"
      ]
     },
     "execution_count": 14,
     "metadata": {},
     "output_type": "execute_result"
    }
   ],
   "source": [
    "#Jaki jest rozkład próby treningowej (ile procent z próbek to te, w której osoba się znajduje).\n",
    "100 * train['label'].value_counts()[0] / len(train)"
   ]
  },
  {
   "cell_type": "code",
   "execution_count": 15,
   "metadata": {},
   "outputs": [
    {
     "data": {
      "text/plain": [
       "52.0"
      ]
     },
     "execution_count": 15,
     "metadata": {},
     "output_type": "execute_result"
    }
   ],
   "source": [
    "#Jaką dokładność będzie miał algorytm zero rule na zbiorze deweloperskim?\n",
    "100 - 100 * dev['label'].value_counts()[1] / len(dev)"
   ]
  },
  {
   "cell_type": "code",
   "execution_count": 16,
   "metadata": {},
   "outputs": [
    {
     "name": "stdout",
     "output_type": "stream",
     "text": [
      "0.94422310757\n",
      "0.994252873563\n",
      "0.831168831169\n",
      "0.7\n",
      "0.576923076923\n",
      "0.833333333333\n"
     ]
    }
   ],
   "source": [
    "#Oblicz dokładność, czułość, swoistość (accuracy, specifity, sensivity) na danych treningowych\n",
    "#oraz deweloperskich modelu.\n",
    "\n",
    "from sklearn.metrics import confusion_matrix\n",
    "conf = confusion_matrix(train['label'], pd.DataFrame(lr.predict(train[myvarcol].values.reshape(-1, len(myvarcol)))))\n",
    "tp, fn, fp, tn = conf.ravel()\n",
    "\n",
    "#accuracy\n",
    "print((tp + tn)/(tp + fp + fn + tn))\n",
    "\n",
    "#specifity\n",
    "print(tn/(tn + fp))\n",
    "\n",
    "#sensivity\n",
    "print(tp/(tp + fn))\n",
    "\n",
    "conf2 = confusion_matrix(dev['label'], pd.DataFrame(lr.predict(dev[myvarcol].values.reshape(-1, len(myvarcol)))))\n",
    "tp, fn, fp, tn = conf2.ravel()\n",
    "\n",
    "#accuracy\n",
    "print((tp + tn)/(tp + fp + fn + tn))\n",
    "\n",
    "#specifity\n",
    "print(tn/(tn + fp))\n",
    "\n",
    "#sensivity\n",
    "print(tp/(tp + fn))"
   ]
  },
  {
   "cell_type": "code",
   "execution_count": 67,
   "metadata": {},
   "outputs": [
    {
     "data": {
      "text/plain": [
       "array([[ 9, 15],\n",
       "       [ 3, 23]], dtype=int64)"
      ]
     },
     "execution_count": 67,
     "metadata": {},
     "output_type": "execute_result"
    }
   ],
   "source": [
    "#Stwórz macierz błędu dla danych treningowych i deweloperskich.\n",
    "conf\n",
    "conf2"
   ]
  },
  {
   "cell_type": "code",
   "execution_count": 18,
   "metadata": {},
   "outputs": [
    {
     "data": {
      "text/plain": [
       "<matplotlib.axes._subplots.AxesSubplot at 0x25a2c1438d0>"
      ]
     },
     "execution_count": 18,
     "metadata": {},
     "output_type": "execute_result"
    },
    {
     "data": {
      "image/png": "[encoded data removed]",
      "text/plain": [
       "<Figure size 432x288 with 1 Axes>"
      ]
     },
     "metadata": {},
     "output_type": "display_data"
    }
   ],
   "source": [
    "#Narysuj wykres regresji logistycznej jednej zmiennej dla dowolnej cechy dla danych deweloperskich.\n",
    "dev[\"numlabel\"] = [1 if x == \"g\" else 0 for x in dev[\"label\"]]\n",
    "sns.regplot(x=\"24\", y=\"numlabel\", data=dev, logistic=True)\n"
   ]
  },
  {
   "cell_type": "code",
   "execution_count": null,
   "metadata": {},
   "outputs": [],
   "source": [
    "g = sns.PairGrid(tips, y_vars=[\"label\"], x_vars=[\"total_bill\", \"size\"], size=4)\n",
    "g.map(sns.regplot, color=\".3\")\n",
    "g.set(ylim=(-1, 11), yticks=[0, 5, 10]);"
   ]
  }
 ],
 "metadata": {
  "kernelspec": {
   "display_name": "Python 3",
   "language": "python",
   "name": "python3"
  },
  "language_info": {
   "codemirror_mode": {
    "name": "ipython",
    "version": 3
   },
   "file_extension": ".py",
   "mimetype": "text/x-python",
   "name": "python",
   "nbconvert_exporter": "python",
   "pygments_lexer": "ipython3",
   "version": "3.6.5"
  }
 },
 "nbformat": 4,
 "nbformat_minor": 2
}
