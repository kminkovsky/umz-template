{
 "cells": [
  {
   "cell_type": "code",
   "execution_count": 56,
   "metadata": {},
   "outputs": [],
   "source": [
    "%matplotlib inline\n",
    "\n",
    "import pandas as pd\n",
    "import numpy as np\n",
    "import seaborn as sns\n",
    "from sklearn.linear_model import LogisticRegression\n",
    "\n",
    "train = pd.read_csv('train/train.tsv', sep='\\t', names=['Occupancy','date','Temperature','Humidity','Light','CO2','HumidityRatio'])\n",
    "dev = pd.read_csv('dev-0/in.tsv', sep='\\t', names=['date','Temperature','Humidity','Light','CO2','HumidityRatio'])\n",
    "test = pd.read_csv('test-A/in.tsv', sep='\\t', names=['date','Temperature','Humidity','Light','CO2','HumidityRatio'])\n",
    "exp = pd.read_csv('dev-0/expected.tsv', sep='\\t', names=['Occupancy'])\n",
    "dev[\"Occupancy\"] = exp[\"Occupancy\"]\n",
    "\n",
    "lr = LogisticRegression()\n",
    "lr.fit(train[['CO2', 'Light']].values.reshape(-1, 2), train['Occupancy'].values.ravel())\n",
    "\n",
    "pd.DataFrame(lr.predict(dev[['CO2', 'Light']].values.reshape(-1, 2))).to_csv('dev-0/out.tsv', sep='\\t', header=False, index=False)\n",
    "pd.DataFrame(lr.predict(test[['CO2', 'Light']].values.reshape(-1, 2))).to_csv('test-A/out.tsv', sep='\\t', header=False, index=False)"
   ]
  },
  {
   "cell_type": "code",
   "execution_count": 57,
   "metadata": {},
   "outputs": [
    {
     "name": "stdout",
     "output_type": "stream",
     "text": [
      "twój wynik acc to:  0.99\n",
      "żeby zaliczyc zadanie powinieneś mieć conajmniej:  0.85\n",
      "zaliczone\n"
     ]
    }
   ],
   "source": [
    "!python test_my_score.py"
   ]
  },
  {
   "cell_type": "code",
   "execution_count": 8,
   "metadata": {},
   "outputs": [
    {
     "data": {
      "text/plain": [
       "21.232960825248679"
      ]
     },
     "execution_count": 8,
     "metadata": {},
     "output_type": "execute_result"
    }
   ],
   "source": [
    "#Jaki jest rozkład próby treningowej (ile procent z próbek to te, w której osoba się znajduje).\n",
    "100 * train['Occupancy'].value_counts()[1] / len(train)"
   ]
  },
  {
   "cell_type": "code",
   "execution_count": 58,
   "metadata": {},
   "outputs": [
    {
     "data": {
      "text/plain": [
       "63.527204502814257"
      ]
     },
     "execution_count": 58,
     "metadata": {},
     "output_type": "execute_result"
    }
   ],
   "source": [
    "#Jaką dokładność będzie miał algorytm zero rule na zbiorze deweloperskim?\n",
    "100 - 100 * dev['Occupancy'].value_counts()[1] / len(dev)"
   ]
  },
  {
   "cell_type": "code",
   "execution_count": 60,
   "metadata": {},
   "outputs": [
    {
     "name": "stdout",
     "output_type": "stream",
     "text": [
      "0.988333538008\n",
      "0.985968194574\n",
      "0.997108155003\n",
      "0.978236397749\n",
      "0.967513290018\n",
      "0.996913580247\n"
     ]
    }
   ],
   "source": [
    "#Oblicz dokładność, czułość, swoistość (accuracy, specifity, sensivity) na danych treningowych\n",
    "#oraz deweloperskich modelu.\n",
    "\n",
    "from sklearn.metrics import confusion_matrix\n",
    "conf = confusion_matrix(train['Occupancy'], pd.DataFrame(lr.predict(train[['CO2', 'Light']].values.reshape(-1, 2))))\n",
    "tn, fp, fn, tp = conf.ravel()\n",
    "\n",
    "#accuracy\n",
    "print((tp + tn)/(tp + fp + fn + tn))\n",
    "\n",
    "#specifity\n",
    "print(tn/(tn + fp))\n",
    "\n",
    "#sensivity\n",
    "print(tp/(tp + fn))\n",
    "\n",
    "conf2 = confusion_matrix(dev['Occupancy'], pd.DataFrame(lr.predict(dev[['CO2', 'Light']].values.reshape(-1, 2))))\n",
    "tn, fp, fn, tp = conf2.ravel()\n",
    "\n",
    "#accuracy\n",
    "print((tp + tn)/(tp + fp + fn + tn))\n",
    "\n",
    "#specifity\n",
    "print(tn/(tn + fp))\n",
    "\n",
    "#sensivity\n",
    "print(tp/(tp + fn))"
   ]
  },
  {
   "cell_type": "code",
   "execution_count": 61,
   "metadata": {},
   "outputs": [
    {
     "data": {
      "text/plain": [
       "array([[1638,   55],\n",
       "       [   3,  969]], dtype=int64)"
      ]
     },
     "execution_count": 61,
     "metadata": {},
     "output_type": "execute_result"
    }
   ],
   "source": [
    "#Stwórz macierz błędu dla danych treningowych i deweloperskich.\n",
    "conf\n",
    "conf2"
   ]
  },
  {
   "cell_type": "code",
   "execution_count": 62,
   "metadata": {},
   "outputs": [
    {
     "data": {
      "text/plain": [
       "<matplotlib.axes._subplots.AxesSubplot at 0x2d7152eaf60>"
      ]
     },
     "execution_count": 62,
     "metadata": {},
     "output_type": "execute_result"
    },
    {
     "data": {
      "image/png": "[encoded data removed]",
      "text/plain": [
       "<Figure size 432x288 with 1 Axes>"
      ]
     },
     "metadata": {},
     "output_type": "display_data"
    }
   ],
   "source": [
    "#Narysuj wykres regresji logistycznej jednej zmiennej dla dowolnej cechy dla danych deweloperskich.\n",
    "sns.regplot(x=\"Temperature\", y=\"Occupancy\", data=dev, logistic=True)\n"
   ]
  },
  {
   "cell_type": "code",
   "execution_count": null,
   "metadata": {},
   "outputs": [],
   "source": []
  }
 ],
 "metadata": {
  "kernelspec": {
   "display_name": "Python 3",
   "language": "python",
   "name": "python3"
  },
  "language_info": {
   "codemirror_mode": {
    "name": "ipython",
    "version": 3
   },
   "file_extension": ".py",
   "mimetype": "text/x-python",
   "name": "python",
   "nbconvert_exporter": "python",
   "pygments_lexer": "ipython3",
   "version": "3.6.5"
  }
 },
 "nbformat": 4,
 "nbformat_minor": 2
}
